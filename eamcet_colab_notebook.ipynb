{
  "cells": [
    {
      "cell_type": "markdown",
      "metadata": {},
      "source": [
        "# EAMCET Zero Manual Pipeline - Google Colab\n",
        "\n",
        "This notebook runs the fully automated EAMCET AI tutor training pipeline without any manual annotations required.\n",
        "\n",
        "## Features:\n",
        "- \u2705 No manual annotations needed\n",
        "- \u2705 Intelligent pattern recognition\n",
        "- \u2705 Automatic question and answer extraction\n",
        "- \u2705 Automated model training\n",
        "- \u2705 Works with any EAMCET PDF format"
      ]
    },
    {
      "cell_type": "markdown",
      "metadata": {},
      "source": [
        "## Step 1: Setup Environment\n",
        "\n",
        "Install all dependencies and clone the repository."
      ]
    },
    {
      "cell_type": "code",
      "execution_count": null,
      "metadata": {},
      "outputs": [],
      "source": [
        "# Install system dependencies\n",
        "!apt-get install -y tesseract-ocr tesseract-ocr-eng libtesseract-dev libgl1-mesa-glx libglib2.0-0\n",
        "\n",
        "# Clone repository (UPDATE THIS URL WITH YOUR GITHUB REPOSITORY)\n",
        "!git clone https://github.com/YOUR_USERNAME/eamcet_ai_tutor.git\n",
        "\n",
        "# Install Python dependencies\n",
        "%cd eamcet_ai_tutor\n",
        "!pip install -r requirements.txt\n",
        "\n",
        "# Verify installation\n",
        "import fitz\n",
        "print(\"\u2705 PyMuPDF imported successfully\")\n",
        "print(\"\u2705 Environment ready!\")"
      ]
    },
    {
      "cell_type": "markdown",
      "metadata": {},
      "source": [
        "## Step 2: Upload Your EAMCET PDFs\n",
        "\n",
        "Upload your EAMCET PDF files to the data/raw_pdfs folder."
      ]
    },
    {
      "cell_type": "code",
      "execution_count": null,
      "metadata": {},
      "outputs": [],
      "source": [
        "from google.colab import files\n",
        "import os\n",
        "from pathlib import Path\n",
        "\n",
        "# Create data directory structure\n",
        "os.makedirs(\"data/raw_pdfs\", exist_ok=True)\n",
        "\n",
        "# Upload files\n",
        "uploaded = files.upload()\n",
        "\n",
        "# Move uploaded files to data folder\n",
        "for filename in uploaded.keys():\n",
        "    if filename.endswith('.pdf'):\n",
        "        os.rename(filename, f\"data/raw_pdfs/{filename}\")\n",
        "        print(f\"\u2705 Moved {filename} to data/raw_pdfs/\")\n",
        "\n",
        "print(f\"\\n\ud83d\udcc1 Total PDFs uploaded: {len([f for f in os.listdir('data/raw_pdfs') if f.endswith('.pdf')])}\")"
      ]
    },
    {
      "cell_type": "markdown",
      "metadata": {},
      "source": [
        "## Step 3: Run Zero Manual Pipeline\n",
        "\n",
        "Execute the fully automated extraction and training pipeline."
      ]
    },
    {
      "cell_type": "code",
      "execution_count": null,
      "metadata": {},
      "outputs": [],
      "source": [
        "# Run the zero manual pipeline\n",
        "!python eamcet_zero_manual_pipeline.py --input_folder data/raw_pdfs --output_folder colab_results\n",
        "\n",
        "print(\"\\n\u2705 Pipeline completed!\")\n",
        "print(\"\ud83d\udcc1 Check the colab_results folder for outputs\")"
      ]
    },
    {
      "cell_type": "markdown",
      "metadata": {},
      "source": [
        "## Step 4: View Results\n",
        "\n",
        "Examine the extracted data and training results."
      ]
    },
    {
      "cell_type": "code",
      "execution_count": null,
      "metadata": {},
      "outputs": [],
      "source": [
        "import json\n",
        "import pandas as pd\n",
        "from pathlib import Path\n",
        "\n",
        "# Load pipeline summary\n",
        "if Path(\"colab_results/pipeline_summary.json\").exists():\n",
        "    with open(\"colab_results/pipeline_summary.json\", \"r\") as f:\n",
        "        summary = json.load(f)\n",
        "    \n",
        "    print(\"\ud83d\udcca PIPELINE SUMMARY:\")\n",
        "    print(\"=\" * 40)\n",
        "    \n",
        "    print(f\"Total questions extracted: {summary['extraction_stats']['total_questions']}\")\n",
        "    print(f\"Questions with answers: {summary['extraction_stats']['paired_questions']}\")\n",
        "    \n",
        "    print(\"\\n\ud83d\udcda Subject Breakdown:\")\n",
        "    for subject, count in summary['extraction_stats']['subjects'].items():\n",
        "        if count > 0:\n",
        "            print(f\"  {subject}: {count} questions\")\n",
        "    \n",
        "    print(\"\\n\ud83c\udfaf Training Data Created:\")\n",
        "    for data_type, count in summary['training_data_stats'].items():\n",
        "        print(f\"  {data_type}: {count} samples\")\n",
        "else:\n",
        "    print(\"\u274c Pipeline summary not found. Check if pipeline completed successfully.\")"
      ]
    },
    {
      "cell_type": "markdown",
      "metadata": {},
      "source": [
        "## Step 5: Download Results\n",
        "\n",
        "Download the processed data and trained models."
      ]
    },
    {
      "cell_type": "code",
      "execution_count": null,
      "metadata": {},
      "outputs": [],
      "source": [
        "from google.colab import files\n",
        "import zipfile\n",
        "import os\n",
        "\n",
        "# Create zip file of results\n",
        "if os.path.exists(\"colab_results\"):\n",
        "    with zipfile.ZipFile(\"eamcet_results.zip\", \"w\") as zipf:\n",
        "        for root, dirs, files in os.walk(\"colab_results\"):\n",
        "            for file in files:\n",
        "                file_path = os.path.join(root, file)\n",
        "                arcname = os.path.relpath(file_path, \"colab_results\")\n",
        "                zipf.write(file_path, arcname)\n",
        "    \n",
        "    # Download the zip file\n",
        "    files.download(\"eamcet_results.zip\")\n",
        "    print(\"\u2705 Results downloaded as eamcet_results.zip\")\n",
        "else:\n",
        "    print(\"\u274c No results found to download\")"
      ]
    }
  ],
  "metadata": {
    "colab": {
      "name": "EAMCET Zero Manual Pipeline",
      "private_outputs": true,
      "provenance": []
    },
    "kernelspec": {
      "display_name": "Python 3",
      "language": "python",
      "name": "python3"
    },
    "language_info": {
      "codemirror_mode": {
        "name": "ipython",
        "version": 3
      },
      "file_extension": ".py",
      "mimetype": "text/x-python",
      "name": "python",
      "nbconvert_exporter": "python",
      "pygments_lexer": "ipython3",
      "version": "3.8.5"
    }
  },
  "nbformat": 4,
  "nbformat_minor": 4
}