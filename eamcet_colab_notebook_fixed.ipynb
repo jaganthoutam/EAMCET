{
  "cells": [
    {
      "cell_type": "markdown",
      "metadata": {},
      "source": [
        "# EAMCET Zero Manual Pipeline - Google Colab\n",
        "\n",
        "This notebook runs the fully automated EAMCET AI tutor training pipeline without any manual annotations required.\n",
        "\n",
        "## Features:\n",
        "- ✅ No manual annotations needed\n",
        "- ✅ Intelligent pattern recognition\n",
        "- ✅ Automatic question and answer extraction\n",
        "- ✅ Automated model training\n",
        "- ✅ Works with any EAMCET PDF format"
      ]
    },
    {
      "cell_type": "markdown",
      "metadata": {},
      "source": []
    },
    {
      "cell_type": "markdown",
      "metadata": {},
      "source": [
        "## Step 1: Setup Environment\n",
        "\n",
        "Install all dependencies and clone the repository."
      ]
    },
    {
      "cell_type": "code",
      "execution_count": null,
      "metadata": {},
      "outputs": [],
      "source": [
        "# Install system dependencies\n",
        "!apt-get update\n",
        "!apt-get install -y tesseract-ocr tesseract-ocr-eng libtesseract-dev libgl1-mesa-glx libglib2.0-0\n",
        "\n",
        "# Clone repository (UPDATE THIS URL WITH YOUR GITHUB REPOSITORY)\n",
        "# Make sure to replace YOUR_USERNAME with your actual GitHub username\n",
        "!git clone https://github.com/jaganthoutam/EAMCET.git\n",
        "\n",
        "# Change to the correct directory\n",
        "%cd EAMCET\n",
        "\n",
        "# Install Python dependencies\n",
        "!pip install -r requirements.txt\n",
        "\n",
        "# Fix PyMuPDF installation if needed\n",
        "!pip uninstall fitz PyMuPDF -y 2>/dev/null || true\n",
        "!pip install PyMuPDF==1.26.3\n",
        "\n",
        "# Verify installation\n",
        "import fitz\n",
        "print(\"✅ PyMuPDF imported successfully\")\n",
        "print(\"✅ Environment ready!\")\n",
        "print(f\"📁 Current directory: {os.getcwd()}\")"
      ]
    },
    {
      "cell_type": "markdown",
      "metadata": {},
      "source": [
        "## Step 2: Upload Your EAMCET PDFs\n",
        "\n",
        "Upload your EAMCET PDF files to the data/raw_pdfs folder."
      ]
    },
    {
      "cell_type": "code",
      "execution_count": null,
      "metadata": {},
      "outputs": [],
      "source": [
        "from google.colab import files\n",
        "import os\n",
        "from pathlib import Path\n",
        "\n",
        "# Create data directory structure\n",
        "os.makedirs(\"data/raw_pdfs\", exist_ok=True)\n",
        "\n",
        "# Upload files\n",
        "uploaded = files.upload()\n",
        "\n",
        "# Move uploaded files to data folder\n",
        "for filename in uploaded.keys():\n",
        "    if filename.endswith('.pdf'):\n",
        "        os.rename(filename, f\"data/raw_pdfs/{filename}\")\n",
        "        print(f\"✅ Moved {filename} to data/raw_pdfs/\")\n",
        "\n",
        "print(f\"\\n📁 Total PDFs uploaded: {len([f for f in os.listdir('data/raw_pdfs') if f.endswith('.pdf')])}\")"
      ]
    },
    {
      "cell_type": "markdown",
      "metadata": {},
      "source": [
        "## Step 3: Run Zero Manual Pipeline\n",
        "\n",
        "Execute the fully automated extraction and training pipeline."
      ]
    },
    {
      "cell_type": "code",
      "execution_count": null,
      "metadata": {},
      "outputs": [],
      "source": [
        "# Run the zero manual pipeline\n",
        "!python eamcet_zero_manual_pipeline.py --input_folder data/raw_pdfs --output_folder colab_results\n",
        "\n",
        "print(\"\\n✅ Pipeline completed!\")\n",
        "print(\"📁 Check the colab_results folder for outputs\")"
      ]
    },
    {
      "cell_type": "markdown",
      "metadata": {},
      "source": [
        "## Step 4: View Results\n",
        "\n",
        "Examine the extracted data and training results."
      ]
    },
    {
      "cell_type": "code",
      "execution_count": null,
      "metadata": {},
      "outputs": [],
      "source": [
        "import json\n",
        "import pandas as pd\n",
        "from pathlib import Path\n",
        "\n",
        "# Load pipeline summary\n",
        "if Path(\"colab_results/pipeline_summary.json\").exists():\n",
        "    with open(\"colab_results/pipeline_summary.json\", \"r\") as f:\n",
        "        summary = json.load(f)\n",
        "    \n",
        "    print(\"📊 PIPELINE SUMMARY:\")\n",
        "    print(\"=\" * 40)\n",
        "    \n",
        "    print(f\"Total questions extracted: {summary['extraction_stats']['total_questions']}\")\n",
        "    print(f\"Questions with answers: {summary['extraction_stats']['paired_questions']}\")\n",
        "    \n",
        "    print(\"\\n📚 Subject Breakdown:\")\n",
        "    for subject, count in summary['extraction_stats']['subjects'].items():\n",
        "        if count > 0:\n",
        "            print(f\"  {subject}: {count} questions\")\n",
        "    \n",
        "    print(\"\\n🎯 Training Data Created:\")\n",
        "    for data_type, count in summary['training_data_stats'].items():\n",
        "        print(f\"  {data_type}: {count} samples\")\n",
        "else:\n",
        "    print(\"❌ Pipeline summary not found. Check if pipeline completed successfully.\")\n",
        "    print(\"📁 Available files in colab_results:\")\n",
        "    if os.path.exists(\"colab_results\"):\n",
        "        for file in os.listdir(\"colab_results\"):\n",
        "            print(f\"  - {file}\")"
      ]
    },
    {
      "cell_type": "markdown",
      "metadata": {},
      "source": [
        "## Step 5: Download Results\n",
        "\n",
        "Download the processed data and trained models."
      ]
    },
    {
      "cell_type": "code",
      "execution_count": null,
      "metadata": {},
      "outputs": [],
      "source": [
        "from google.colab import files\n",
        "import zipfile\n",
        "import os\n",
        "\n",
        "# Create zip file of results\n",
        "if os.path.exists(\"colab_results\"):\n",
        "    with zipfile.ZipFile(\"eamcet_results.zip\", \"w\") as zipf:\n",
        "        for root, dirs, filenames in os.walk(\"colab_results\"):\n",
        "            for file in filenames:\n",
        "                file_path = os.path.join(root, file)\n",
        "                arcname = os.path.relpath(file_path, \"colab_results\")\n",
        "                zipf.write(file_path, arcname)\n",
        "\n",
        "    # Download the zip file\n",
        "    files.download(\"eamcet_results.zip\")\n",
        "    print(\"✅ Results downloaded as eamcet_results.zip\")\n",
        "else:\n",
        "    print(\"❌ No results found to download\")"
      ]
    },
    {
      "cell_type": "markdown",
      "metadata": {},
      "source": [
        "## Troubleshooting\n",
        "\n",
        "If you encounter issues, try these fixes:"
      ]
    },
    {
      "cell_type": "code",
      "execution_count": null,
      "metadata": {},
      "outputs": [],
      "source": [
        "# Troubleshooting cell - run this if you have issues\n",
        "\n",
        "# Check current directory\n",
        "print(f\"Current directory: {os.getcwd()}\")\n",
        "print(f\"Directory contents: {os.listdir('.')}\")\n",
        "\n",
        "# Check if EAMCET directory exists\n",
        "if os.path.exists(\"EAMCET\"):\n",
        "    print(\"✅ EAMCET directory found\")\n",
        "    %cd EAMCET\n",
        "    print(f\"Changed to: {os.getcwd()}\")\n",
        "else:\n",
        "    print(\"❌ EAMCET directory not found\")\n",
        "    print(\"Available directories:\")\n",
        "    for item in os.listdir('.'):\n",
        "        if os.path.isdir(item):\n",
        "            print(f\"  - {item}\")\n",
        "\n",
        "# Check PyMuPDF installation\n",
        "try:\n",
        "    import fitz\n",
        "    print(\"✅ PyMuPDF is working\")\n",
        "except ImportError:\n",
        "    print(\"❌ PyMuPDF not working, reinstalling...\")\n",
        "    !pip uninstall fitz PyMuPDF -y\n",
        "    !pip install PyMuPDF==1.26.3\n",
        "    import fitz\n",
        "    print(\"✅ PyMuPDF reinstalled successfully\")"
      ]
    }
  ],
  "metadata": {
    "colab": {
      "name": "EAMCET Zero Manual Pipeline",
      "private_outputs": true,
      "provenance": []
    },
    "kernelspec": {
      "display_name": "Python 3",
      "language": "python",
      "name": "python3"
    },
    "language_info": {
      "codemirror_mode": {
        "name": "ipython",
        "version": 3
      },
      "file_extension": ".py",
      "mimetype": "text/x-python",
      "name": "python",
      "nbconvert_exporter": "python",
      "pygments_lexer": "ipython3",
      "version": "3.8.5"
    }
  },
  "nbformat": 4,
  "nbformat_minor": 4
}
